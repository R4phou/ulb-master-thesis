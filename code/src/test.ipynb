{
 "cells": [
  {
   "cell_type": "code",
   "execution_count": 1,
   "metadata": {},
   "outputs": [
    {
     "name": "stdout",
     "output_type": "stream",
     "text": [
      "utils.py Loading\n",
      "Reading HDI dataset\n",
      "co2prod: min=0.0, max=33.3863\n",
      "hdi: min=0.257, max=0.967\n",
      "le: min=37.105, max=85.473\n",
      "gdi: min=0.383, max=1.041\n",
      "eys: min=3.5751, max=23.2477\n",
      "mys: min=1.4606, max=14.2559\n"
     ]
    }
   ],
   "source": [
    "from utils.utils import *\n",
    "\n",
    "data = read_data()"
   ]
  },
  {
   "cell_type": "code",
   "execution_count": 3,
   "metadata": {},
   "outputs": [],
   "source": [
    "group0 = [\"PAK\", \"SDN\", \"BDI\", \"HTI\"]\n",
    "group1 = [\"EST\", \"CZE\", \"MLT\", \"SGP\", \"IRL\"]\n",
    "group2 = [\"CHE\", \"ISL\", \"NZL\", \"SWE\"]\n",
    "\n",
    "all_groups = group0 + group1 + group2\n",
    "\n",
    "data = data.loc[all_groups]"
   ]
  }
 ],
 "metadata": {
  "kernelspec": {
   "display_name": "Python 3",
   "language": "python",
   "name": "python3"
  },
  "language_info": {
   "codemirror_mode": {
    "name": "ipython",
    "version": 3
   },
   "file_extension": ".py",
   "mimetype": "text/x-python",
   "name": "python",
   "nbconvert_exporter": "python",
   "pygments_lexer": "ipython3",
   "version": "3.12.8"
  }
 },
 "nbformat": 4,
 "nbformat_minor": 2
}
