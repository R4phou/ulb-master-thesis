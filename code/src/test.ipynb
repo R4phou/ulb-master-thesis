{
 "cells": [
  {
   "cell_type": "code",
   "execution_count": 2,
   "metadata": {},
   "outputs": [
    {
     "name": "stdout",
     "output_type": "stream",
     "text": [
      "utils.py Loading\n",
      "Reading HDI dataset\n",
      "co2prod: min=0.0, max=33.3863\n",
      "hdi: min=0.257, max=0.967\n",
      "le: min=37.105, max=85.473\n",
      "gdi: min=0.383, max=1.041\n",
      "eys: min=3.5751, max=23.2477\n",
      "mys: min=1.4606, max=14.2559\n"
     ]
    }
   ],
   "source": [
    "from matplotlib import pyplot as plt\n",
    "from utils.utils import *\n",
    "import utils.promethee_functions as pf\n",
    "import utils.clustering_functions as cf\n",
    "\n",
    "data = read_data()\n",
    "group0 = [\"PAK\", \"SDN\", \"BDI\", \"HTI\"]\n",
    "group1 = [\"EST\", \"CZE\", \"MLT\", \"SGP\", \"IRL\"]\n",
    "group2 = [\"CHE\", \"ISL\", \"NZL\", \"SWE\"]\n",
    "\n",
    "all_groups = group0 + group1 + group2\n",
    "\n",
    "data = data.loc[all_groups]\n",
    "\n",
    "# Nb of criteria\n",
    "K = data.columns.shape[0] # Nb of criteria\n",
    "L = data.iloc[0][\"co2prod\"].shape[0] # Length of the time series\n",
    "\n",
    "W = [1/K for i in range(K)] # Weights of the criteria (equal weights)\n",
    "Q = [10, 0.3, 40,  0.4, 4, 2] # Indifference thresholds\n",
    "P = [28, 0.9, 80, 1, 18, 12] # Preference thresholds"
   ]
  },
  {
   "cell_type": "code",
   "execution_count": 149,
   "metadata": {},
   "outputs": [],
   "source": [
    "def K_Medoid_Eta(alternatives, distance_matrix, k=3, prototype_method=\"random\", print_results=True, iter_max=100):\n",
    "    \"\"\" \n",
    "    K-Medoid clustering algorithm using the Aggregated Eta matrix\n",
    "        - alternatives: np.array of the alternatives names only\n",
    "        - distance_matrix: pd.DataFrame of the distance matrix with index and columns as the alternatives names\n",
    "        - k: the number of clusters\n",
    "\n",
    "    Returns:\n",
    "        - the medoids of the clusters\n",
    "        - the clusters\n",
    "    \"\"\"\n",
    "\n",
    "    # Initialize medoids\n",
    "    if prototype_method == \"random\":\n",
    "        medoids = np.random.choice(alternatives, k, replace=False)\n",
    "    \n",
    "    elif prototype_method == \"farthest\":\n",
    "        # Select the farthest alternatives from each other\n",
    "        medoids = [alternatives[0]]\n",
    "        for _ in range(k-1):\n",
    "            distances = [np.min([distance_matrix.loc[alternative, medoid] for medoid in medoids]) for alternative in alternatives]\n",
    "            new_medoid = alternatives[np.argmax(distances)]\n",
    "            medoids.append(new_medoid)\n",
    "        medoids = np.array(medoids)\n",
    "\n",
    "    if print_results:\n",
    "        print(\"Initial medoids:\", medoids)\n",
    "\n",
    "    # Initialize clusters\n",
    "    clusters = {medoid: [] for medoid in medoids}\n",
    "\n",
    "    # Initialize assignment check\n",
    "    assigned = {alternative: False for alternative in alternatives}\n",
    "\n",
    "\n",
    "    # When entering the loop, we just have the medoids and no assigned alternatives\n",
    "    iter = 0\n",
    "    converged = False\n",
    "    while not converged and iter < iter_max:\n",
    "\n",
    "        # Assign medoid to its cluster\n",
    "        for medoid in medoids:\n",
    "            clusters[medoid].append(medoid)\n",
    "            assigned[medoid] = True\n",
    "\n",
    "\n",
    "        # Assign each alternative to the closest medoid\n",
    "        for alternative in alternatives:\n",
    "            if not assigned[alternative]: # If not yet assigned, assign it to the closest medoid\n",
    "                distances = [distance_matrix.loc[alternative, medoid] for medoid in medoids] # Take the distances to each medoid\n",
    "                closest_medoid = medoids[np.argmin(distances)] # Take the medoid with the smallest distance\n",
    "                clusters[closest_medoid].append(alternative) # Assign the alternative to the cluster of the closest medoid\n",
    "                assigned[alternative] = True\n",
    "\n",
    "        if print_results:\n",
    "            print(\"Iteration\", iter)\n",
    "            print(\"Clusters:\", clusters)\n",
    "            print(\"Assigned:\", all(assigned.values()))\n",
    "\n",
    "        # Update medoids\n",
    "        converged = True\n",
    "        for medoid in medoids:\n",
    "            cluster = clusters[medoid]\n",
    "\n",
    "            # Compute the sum of the distance for each alternative in the cluster towards the other alternatives in the cluster\n",
    "            distances = [np.sum([distance_matrix.loc[alternative, alternative2] for alternative2 in cluster]) for alternative in cluster]\n",
    "            if len(distances) > 1:\n",
    "                new_medoid = cluster[np.argmin(distances)] # Take the alternative with the smallest sum of distances\n",
    "            else:\n",
    "                new_medoid = medoid\n",
    "            if new_medoid != medoid:\n",
    "                # print(\"Medoid\", medoid, \"changed to\", new_medoid, \"in array\", medoids)\n",
    "                index = np.where(medoids == medoid)\n",
    "                # print(\"Index:\", index[0])\n",
    "                medoids[index[0][0]] = new_medoid # Update the medoid in the list\n",
    "                converged = False # If at least one medoid has changed, we have not converged\n",
    "                clusters = {medoid: [] for medoid in medoids} # Reinitialize the cluster\n",
    "                assigned = {alternative: False for alternative in alternatives} # Reinitialize the cluster assignment check\n",
    "        iter += 1\n",
    "    \n",
    "    if iter_max == iter:\n",
    "        if print_results:\n",
    "            print(\"Max iterations reached, no convergence but assigning the alternatives to the closest last medoid computed:\")\n",
    "        for alternative in alternatives:\n",
    "            if not assigned[alternative]:\n",
    "                distances = [distance_matrix.loc[alternative, medoid] for medoid in medoids]\n",
    "                closest_medoid = medoids[np.argmin(distances)]\n",
    "                clusters[closest_medoid].append(alternative)\n",
    "\n",
    "    return medoids, clusters, iter"
   ]
  },
  {
   "cell_type": "code",
   "execution_count": 143,
   "metadata": {},
   "outputs": [
    {
     "name": "stdout",
     "output_type": "stream",
     "text": [
      "['PAK' 'CHE' 'CZE']\n"
     ]
    }
   ],
   "source": [
    "array = np.array(['PAK', 'NZL', 'CZE'])\n",
    "index = np.where(array == \"NZL\")[0][0]\n",
    "array[index] = \"CHE\"\n",
    "print(array)\n"
   ]
  },
  {
   "cell_type": "code",
   "execution_count": 146,
   "metadata": {},
   "outputs": [
    {
     "name": "stderr",
     "output_type": "stream",
     "text": [
      "c:\\Users\\raphu\\Documents\\ULB\\MA2\\ulb-master-thesis\\code\\src\\utils\\promethee_functions.py:18: FutureWarning: Series.__getitem__ treating keys as positions is deprecated. In a future version, integer keys will always be treated as labels (consistent with DataFrame behavior). To access a value by position, use `ser.iloc[pos]`\n",
      "  d = a_i[c] - a_j[c]\n"
     ]
    },
    {
     "name": "stdout",
     "output_type": "stream",
     "text": [
      "Initial medoids: ['PAK' 'NZL' 'CZE']\n",
      "Iteration 0\n",
      "Clusters: {np.str_('PAK'): [np.str_('PAK'), 'SDN', 'BDI', 'EST'], np.str_('NZL'): [np.str_('NZL'), 'CHE', 'ISL', 'SWE'], np.str_('CZE'): [np.str_('CZE'), 'HTI', 'MLT', 'SGP', 'IRL']}\n",
      "Assigned: True\n",
      "Medoid NZL changed to CHE in array ['PAK' 'NZL' 'CZE']\n",
      "Index: [1]\n",
      "Iteration 1\n",
      "Clusters: {np.str_('PAK'): [np.str_('PAK'), 'SDN', 'BDI', 'EST'], np.str_('CHE'): [np.str_('CHE'), 'ISL', 'NZL', 'SWE'], np.str_('CZE'): [np.str_('CZE'), 'HTI', 'MLT', 'SGP', 'IRL']}\n",
      "Assigned: True\n",
      "\n",
      "Medoids: ['PAK' 'CHE' 'CZE']\n",
      "Cluster PAK : [np.str_('PAK'), 'SDN', 'BDI', 'EST']\n",
      "Cluster CHE : [np.str_('CHE'), 'ISL', 'NZL', 'SWE']\n",
      "Cluster CZE : [np.str_('CZE'), 'HTI', 'MLT', 'SGP', 'IRL']\n"
     ]
    }
   ],
   "source": [
    "t = 0\n",
    "\n",
    "\n",
    "alternatives = data.index\n",
    "phi_c_all = pf.get_all_Phi_c(data, P, Q)\n",
    "temporal_eta = pf.get_eta_matrix(data, phi_c_all, W)\n",
    "\n",
    "eta_matrix = temporal_eta[:,:,t]\n",
    "eta_matrix = pd.DataFrame(eta_matrix, index=alternatives, columns=alternatives)\n",
    "\n",
    "medoids, clusters, iter = K_Medoid_Eta(alternatives, eta_matrix, k=3, prototype_method=\"farthest\", print_results=True)\n",
    "\n",
    "print(\"\\nMedoids:\", medoids)\n",
    "for medoid in medoids:\n",
    "    print(\"Cluster\", medoid, \":\", clusters[medoid])"
   ]
  },
  {
   "cell_type": "code",
   "execution_count": 150,
   "metadata": {},
   "outputs": [
    {
     "name": "stderr",
     "output_type": "stream",
     "text": [
      "c:\\Users\\raphu\\Documents\\ULB\\MA2\\ulb-master-thesis\\code\\src\\utils\\promethee_functions.py:18: FutureWarning: Series.__getitem__ treating keys as positions is deprecated. In a future version, integer keys will always be treated as labels (consistent with DataFrame behavior). To access a value by position, use `ser.iloc[pos]`\n",
      "  d = a_i[c] - a_j[c]\n",
      "100%|██████████| 33/33 [00:00<00:00, 175.98it/s]\n"
     ]
    }
   ],
   "source": [
    "def get_clusters_evolution(data, P, Q, W, K, L, k=3):\n",
    "    \"\"\" \n",
    "    Get the evolution of the clusters over time using the K-Medoids with Eta distances\n",
    "    - data: Dataframe with the alternatives\n",
    "    - P: Preference thresholds\n",
    "    - Q: Indifference thresholds\n",
    "    - W: Weights of the criteria\n",
    "    - K: Number of criteria\n",
    "    - L: Length of the time series\n",
    "    - k: Number of clusters to form (for the K-Medoids algorithm)\n",
    "    \"\"\"\n",
    "\n",
    "    alternatives = data.index\n",
    "    # Get the temporal_eta matrix\n",
    "    phi_c_all = pf.get_all_Phi_c(data, P, Q)\n",
    "    temporal_eta = pf.get_eta_matrix(data, phi_c_all, W)\n",
    "\n",
    "    # Get the clusters evolution\n",
    "    clusters_evolution = []\n",
    "    medoids_evolution = []\n",
    "    iterations = []\n",
    "\n",
    "    for t in tqdm(range(L)):\n",
    "        eta_matrix = temporal_eta[:,:,t]\n",
    "        eta_matrix = pd.DataFrame(eta_matrix, index=alternatives, columns=alternatives)\n",
    "        medoids, clusters, _ = K_Medoid_Eta(alternatives, eta_matrix, k, prototype_method=\"farthest\", print_results=False)\n",
    "        clusters_evolution.append(clusters)\n",
    "        medoids_evolution.append(medoids)\n",
    "        iterations.append(t)\n",
    "\n",
    "    return clusters_evolution, medoids_evolution, iterations\n",
    "\n",
    "clusters_evolution, medoids_evolution, iterations = get_clusters_evolution(data, P, Q, W, K, L, k=3)"
   ]
  },
  {
   "cell_type": "code",
   "execution_count": 151,
   "metadata": {},
   "outputs": [
    {
     "data": {
      "text/plain": [
       "11.25"
      ]
     },
     "execution_count": 151,
     "metadata": {},
     "output_type": "execute_result"
    }
   ],
   "source": [
    "9*1.25"
   ]
  }
 ],
 "metadata": {
  "kernelspec": {
   "display_name": "Python 3",
   "language": "python",
   "name": "python3"
  },
  "language_info": {
   "codemirror_mode": {
    "name": "ipython",
    "version": 3
   },
   "file_extension": ".py",
   "mimetype": "text/x-python",
   "name": "python",
   "nbconvert_exporter": "python",
   "pygments_lexer": "ipython3",
   "version": "3.12.9"
  }
 },
 "nbformat": 4,
 "nbformat_minor": 2
}
