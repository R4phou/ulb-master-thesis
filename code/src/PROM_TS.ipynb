{
 "cells": [
  {
   "cell_type": "code",
   "execution_count": 16,
   "metadata": {},
   "outputs": [],
   "source": [
    "import pandas as pd\n",
    "import numpy as np\n",
    "from matplotlib import pyplot as plt"
   ]
  },
  {
   "cell_type": "markdown",
   "metadata": {},
   "source": [
    "# Promethee for the HDI dataset\n",
    "First approach to applying PROMETHEE method to the HDI dataset (multivariate)\n",
    "\n",
    "1. Read the dataset and transform it in the good format"
   ]
  },
  {
   "cell_type": "code",
   "execution_count": null,
   "metadata": {},
   "outputs": [],
   "source": [
    "def transform_cols_in_sequence(data, col_id, range_of_years):\n",
    "    cols = [col_id + year for year in range_of_years]\n",
    "\n",
    "    # Transform col_id to remove \"_\"\n",
    "    col_id = col_id.replace(\"_\", \"\")\n",
    "\n",
    "    # Add a new column named col_id (will be the sequence)\n",
    "    data[col_id] = None\n",
    "\n",
    "    for i, row in data.iterrows(): # For each row\n",
    "        sequence = []\n",
    "        for col in cols: # For each column\n",
    "            sequence.append(row[col])\n",
    "        sequence = np.array(sequence) # Transform the sequence into a numpy array\n",
    "        data.at[i, col_id] = sequence # Replace the value of the new column with the sequence\n",
    "\n",
    "    # Drop the columns that were transformed\n",
    "    data = data.drop(columns=cols)\n",
    "\n",
    "    return data\n",
    "\n",
    "def read_data():\n",
    "    PATH = \"../data/HDI/HDR23-24_Composite_indices_complete_time_series.csv\"\n",
    "    data = pd.read_csv(PATH, encoding='latin1')\n",
    "    data = data.dropna()\n",
    "\n",
    "    years = [str(i) for i in range(1990, 2022)]\n",
    "\n",
    "    fixed_col_names_to_keep = ['iso3', \"hdi_rank_2022\"]\n",
    "    var_col_names_to_keep = [\"co2_prod_\", \"pop_total_\", \"hdi_\", \"le_\", \"gdi_\"]\n",
    "\n",
    "    col_names_to_keep = fixed_col_names_to_keep + [var + year for var in var_col_names_to_keep for year in years]\n",
    "\n",
    "    data = data[col_names_to_keep]\n",
    "\n",
    "     # Transform the variable columns into sequences\n",
    "    for col in var_col_names_to_keep: \n",
    "        data = transform_cols_in_sequence(data, col, years)\n",
    "\n",
    "    return data\n",
    "\n",
    "\n",
    "data = read_data()"
   ]
  },
  {
   "cell_type": "code",
   "execution_count": null,
   "metadata": {},
   "outputs": [],
   "source": [
    "def plot_data(data):\n",
    "    \"\"\" \n",
    "    For each column, plot a graph with one color per row (country in this case)\n",
    "    On the x-axis, the years (1990-2022)\n",
    "    Using subplots\n",
    "    \"\"\"\n",
    "    Nb_cols = len(data.columns) - 2\n",
    "    fig, axs = plt.subplots(Nb_cols, 1, figsize=(10, 20))\n",
    "\n",
    "    for i, col in enumerate(data.columns[2:]):\n",
    "        for j, row in data.iterrows():\n",
    "            axs[i].plot(row[col], label=row[\"iso3\"])\n",
    "        axs[i].set_title(col)\n",
    "    plt.show()\n",
    "\n",
    "# plot_data(data)\n",
    "    "
   ]
  },
  {
   "cell_type": "code",
   "execution_count": 28,
   "metadata": {},
   "outputs": [],
   "source": [
    "def scale_column(data, col):\n",
    "    \"\"\"\n",
    "    Scale a column between 0 and 1 knowing that each row is a sequence np.array\n",
    "    Scaling using the min and max of the column and not of the sequence each time!\n",
    "    \"\"\"\n",
    "    min_val = data[col].apply(lambda x: x.min()).min()\n",
    "    max_val = data[col].apply(lambda x: x.max()).max()\n",
    "    data[col] = data[col].apply(lambda x: (x - min_val) / (max_val - min_val))\n",
    "    return data\n",
    "\n",
    "def scale_data(data):\n",
    "    \"\"\"\n",
    "    Scale all the columns that are sequences\n",
    "    \"\"\"\n",
    "    for col in data.columns[2:]:\n",
    "        data = scale_column(data, col)\n",
    "    return data\n",
    "\n",
    "data = scale_data(data)"
   ]
  },
  {
   "cell_type": "markdown",
   "metadata": {},
   "source": [
    "## 2. Applying Promethee\n",
    "Now that the Data is scaled and in the correct format, let's apply PROMETHEE. Let's define the functions that will be needed:\n",
    "- Difference between two time series `d_ab`\n",
    "- The Information within criterion $P_j(a,b)$ (here let's do a simple linear one)\n",
    "- The Aggregated preference $\\Pi(a,b)$\n",
    "\n"
   ]
  },
  {
   "cell_type": "code",
   "execution_count": 32,
   "metadata": {},
   "outputs": [],
   "source": [
    "K = len(data.columns) - 2 # 5\n",
    "N = len(data)\n",
    "P = [0.9, 0.9, 0.9, 0.9, 0.9] # Preference parameters\n",
    "Q = [-0.1, -0.1, -0.1, -0.1, -0.1] # Indifference parameters\n",
    "W = [0.2, 0.2, 0.2,0.2,0.2] # Weights\n",
    "\n",
    "def d_ab(t1, t2):\n",
    "    \"\"\" \n",
    "        Difference between two time series\n",
    "        Parameters:\n",
    "            t1: np.array\n",
    "            t2: np.array\n",
    "        Returns:\n",
    "            np.array\n",
    "    \"\"\"\n",
    "    return t1 - t2\n",
    "\n",
    "def Pj_ab_linear(t1, t2, c):\n",
    "    \"\"\" \n",
    "        Pj(a,b) for criteria k=c\n",
    "        t1, t2: time series (one criteria)\n",
    "        c: index of the criteria for the pref/indif threshold\n",
    "        Returns the value of the preference function for this criteria\n",
    "    \"\"\"\n",
    "    d = d_ab(t1, t2)\n",
    "    for i in range(len(d)):\n",
    "        if d[i] <= Q[c]:\n",
    "            d[i] = 0\n",
    "        elif d[i] > P[c]:\n",
    "            d[i] = 1\n",
    "        else:\n",
    "            d[i] = (d[i] - Q[c]) / (P[c] - Q[c])\n",
    "    return d\n",
    "\n",
    "def PI_ab(t1, t2):\n",
    "    \"\"\" \n",
    "        PI(a,b) for two time series\n",
    "        t1, t2: rows of the data (two countries in this case)\n",
    "        Returns the value of the preference function for the two time series\n",
    "    \"\"\"\n",
    "    cols = t1.index[2:] # Get the columns that are sequences (criteria)\n",
    "    res = 0\n",
    "    for c in range(K):\n",
    "        res += W[c] * Pj_ab_linear(t1[cols[c]], t2[cols[c]], c)\n",
    "    return res"
   ]
  },
  {
   "cell_type": "code",
   "execution_count": 35,
   "metadata": {},
   "outputs": [
    {
     "name": "stdout",
     "output_type": "stream",
     "text": [
      "[0.39504682 0.40965987 0.38229018 0.37869231 0.37228879 0.36293946\n",
      " 0.3660299  0.34972988 0.33268015 0.32126042 0.31953806 0.31829336\n",
      " 0.31615153 0.3251108  0.32906611 0.32599219 0.33347954 0.32879092\n",
      " 0.33318472 0.32482064 0.31220747 0.31149859 0.30536173 0.29469219\n",
      " 0.29433059 0.28598672 0.27008202 0.26327575 0.25666627 0.24765926\n",
      " 0.23385179 0.2304661 ]\n",
      "[0.03060987 0.03084155 0.03106465 0.03130497 0.03155198 0.03179705\n",
      " 0.03203062 0.03227778 0.03254748 0.03283006 0.03311781 0.0334122\n",
      " 0.03370622 0.03398678 0.03425674 0.03450183 0.03468835 0.0348461\n",
      " 0.03497251 0.03509709 0.03527773 0.03547697 0.03568316 0.03589727\n",
      " 0.0361102  0.03631464 0.03653441 0.03676552 0.03698353 0.03719717\n",
      " 0.03742703 0.04227662]\n"
     ]
    }
   ],
   "source": [
    "row1 = data.iloc[0]\n",
    "row2 = data.iloc[1]\n",
    "\n",
    "print(PI_ab(row1, row2))\n",
    "print(PI_ab(row2, row1))\n"
   ]
  },
  {
   "cell_type": "code",
   "execution_count": null,
   "metadata": {},
   "outputs": [
    {
     "name": "stderr",
     "output_type": "stream",
     "text": [
      "C:\\Users\\raphu\\AppData\\Local\\Temp\\ipykernel_4276\\1649124254.py:8: FutureWarning: Series.__getitem__ treating keys as positions is deprecated. In a future version, integer keys will always be treated as labels (consistent with DataFrame behavior). To access a value by position, use `ser.iloc[pos]`\n",
      "  size_of_sequence = data.iloc[1][3].shape[0]\n"
     ]
    }
   ],
   "source": [
    "def PI_matrix(data):\n",
    "    \"\"\" \n",
    "        Compute a matrix of size NxN where N is the number of rows in the data\n",
    "        The matrix will contain the PI_ab sequence of values for each pair of rows\n",
    "            - PI_matrix[i][j] will contain the PI_ab value for the rows i and j\n",
    "            - PI_matrix[i][i] will contain a series of 0\n",
    "    \"\"\"\n",
    "    size_of_sequence = data.iloc[1][3].shape[0]\n",
    "    # PI matrix is a matrix of sequences of size\n",
    "    PI_matrix = np.zeros((N, N, size_of_sequence))\n",
    "    for i in range(N):\n",
    "        for j in range(N):\n",
    "            if i != j: # If the two rows are different as if i=j, PI_ab = 0\n",
    "                PI_matrix[i][j] = PI_ab(data.iloc[i], data.iloc[j])\n",
    "    return PI_matrix\n",
    "\n",
    "PI_mat= PI_matrix(data)"
   ]
  },
  {
   "cell_type": "markdown",
   "metadata": {},
   "source": [
    "## Compute the net flow scores"
   ]
  },
  {
   "cell_type": "code",
   "execution_count": null,
   "metadata": {},
   "outputs": [
    {
     "name": "stdout",
     "output_type": "stream",
     "text": [
      "[[30 31 29 28 27 26 25 24 23 22 21 20 13 17 12 19 15 14 18 11 16 10  7  9\n",
      "   5  6  8  4  3  2  0  1]\n",
      " [ 1  0  2  3  4  6  5 17 18 16 19  7 21 13 20 14 15 22 24 25 23 12 26 11\n",
      "  10 27  8  9 28 29 30 31]\n",
      " [30 31 28 29 27 24 26 25 22 20 23 21 17 19 16  3 11 18 13 14  5  4 15  0\n",
      "   1 12  2  6  9 10  7  8]\n",
      " [24 23 14  3 22 27 21 25 30 28 15 20 16 19 26 17 18 29  9 31 13 11  0 10\n",
      "   1  7  8  4  2  5  6 12]\n",
      " [19 29 30 31 23 28 25 24 18 20 26 27 22 21 16 17 15 14 13 12  6 11  9  2\n",
      "  10  0  1  5  3  4  7  8]\n",
      " [27 28 29 26 31 25 30 24 23 22 21 20 18 14 15 19 17 11 13 16 10 12  7  9\n",
      "   5  6  4  3  0  2  8  1]\n",
      " [ 0  1  2  3  4  5  6  7  9  8 10 11 12 13 14 15 16 17 18 19 20 21 22 23\n",
      "  31 24 25 29 30 26 28 27]\n",
      " [ 0  2  1  3  7  5  4  6  8 10  9 11 13 12 31 30 14 25 23 29 18 15 20 26\n",
      "  19 21 24 16 22 27 17 28]\n",
      " [30 31 29 28 27 26 25 24 23 22 21 20 19 18 17 16 14 15 12 10 13 11  9  0\n",
      "   5  7  6  4  3  2  8  1]\n",
      " [ 2  3  0  4  1  7  9 10  6  5 11  8 12 20 21 13 22 16 23 15 18 14 17 19\n",
      "  24 26 27 25 28 29 30 31]\n",
      " [24 22 23 25 21 26  5  8 20 28  9  7  3 27 19  2 15 18 10 29  6  4  0 13\n",
      "  11 12 16 14 17  1 30 31]\n",
      " [31 29 30 28 27 20 26 24 23 25 21 22 19 16 17 18 15  1 12  2 13 14 10 11\n",
      "   9  7  8  4  3  5  0  6]\n",
      " [31 27 29 21 28 26 30 25 23 20 24 22 19 18 17 16 15 14 11 10 12  9 13  0\n",
      "   8  2  1  7  6  3  5  4]\n",
      " [29 27 26 21 28 17 30 31 20 24 22 19 23 25 18 16 15 14 12  5 13 11 10  9\n",
      "   8  6  1  0  2  7  3  4]\n",
      " [ 9  4  5  3  2  7  6  1  0 11 14 12  8 13 15 16 10 18 17 19 20 21 22 23\n",
      "  30 24 25 26 29 27 28 31]\n",
      " [29 31 28 27 30 26 25 24 23 22 20 21 17 19 18 16 15 14 13 12 10 11  9  7\n",
      "   6  5  8  4  3  2  1  0]\n",
      " [16 10 17 14 15 11 13 12 19  9 26 18 25 21 23 24 20 22 29 31  7  6  8  5\n",
      "  27 30 28  0  4  3  2  1]]\n"
     ]
    }
   ],
   "source": [
    "def compute_ranking(PI):\n",
    "    \"\"\"\n",
    "    Compute the ranking of the countries based on the PI matrix\n",
    "    - The ranking is the sum of the PI values for each row\n",
    "    Parameters:\n",
    "        PI: np.array\n",
    "    Returns:\n",
    "        np.array\n",
    "    \"\"\"\n",
    "    return np.argsort(np.sum(PI, axis=1))\n",
    "\n",
    "ranking = compute_ranking(PI_mat) # Ranking of the countries based on the PI matrix\n",
    "\n",
    "print(ranking)"
   ]
  }
 ],
 "metadata": {
  "kernelspec": {
   "display_name": "Python 3",
   "language": "python",
   "name": "python3"
  },
  "language_info": {
   "codemirror_mode": {
    "name": "ipython",
    "version": 3
   },
   "file_extension": ".py",
   "mimetype": "text/x-python",
   "name": "python",
   "nbconvert_exporter": "python",
   "pygments_lexer": "ipython3",
   "version": "3.12.7"
  }
 },
 "nbformat": 4,
 "nbformat_minor": 2
}
