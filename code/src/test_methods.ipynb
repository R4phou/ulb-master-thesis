{
 "cells": [
  {
   "cell_type": "code",
   "execution_count": 1,
   "metadata": {},
   "outputs": [
    {
     "name": "stdout",
     "output_type": "stream",
     "text": [
      "utils.py Loading\n",
      "Reading HDI dataset\n",
      "co2prod: min=0.0, max=33.3863\n",
      "hdi: min=0.257, max=0.967\n",
      "le: min=37.105, max=85.473\n",
      "gdi: min=0.383, max=1.041\n",
      "eys: min=3.5751, max=23.2477\n",
      "mys: min=1.4606, max=14.2559\n"
     ]
    }
   ],
   "source": [
    "from matplotlib import pyplot as plt\n",
    "from utils.utils import *\n",
    "import utils.promethee_functions as pf\n",
    "import utils.clustering_functions as cf\n",
    "\n",
    "data = read_data()\n",
    "K = data.columns.shape[0] # Nb of criteria\n",
    "L = data.iloc[0][\"co2prod\"].shape[0] # Length of the time series\n",
    "N = data.shape[0]\n",
    "\n",
    "W = [1/K for i in range(K)] # Weights of the criteria (equal weights)\n",
    "Q = [1, 0.03, 5, 0.01, 0.5, 0.5] # Indifference thresholds\n",
    "P = [10, 0.4, 20, 0.3, 5, 5]\n",
    "\n",
    "Weight_vector = [1/L for _ in range(L)] # Equal weights times"
   ]
  },
  {
   "cell_type": "code",
   "execution_count": 2,
   "metadata": {},
   "outputs": [],
   "source": [
    "\n",
    "# group0 = [\"PAK\", \"SDN\", \"BDI\", \"HTI\"]\n",
    "# group1 = [\"EST\", \"CZE\", \"MLT\", \"SGP\", \"IRL\"]\n",
    "# group2 = [\"CHE\", \"ISL\", \"NZL\", \"SWE\"]\n",
    "\n",
    "# all_groups = group0 + group1 + group2\n",
    "\n",
    "# data = data.loc[all_groups]\n",
    "N = data.shape[0]"
   ]
  },
  {
   "cell_type": "code",
   "execution_count": 3,
   "metadata": {},
   "outputs": [],
   "source": [
    "def dunn_index_multivariate(clusters, data):\n",
    "    \"\"\" \n",
    "        Compute the Dunn index for a clustering of multivariate time series data\n",
    "        - clusters: list of lists of indexes of the time series in each cluster\n",
    "        - data: the data set (dataframe with index as id of the time series), each cell is a np.array (time series)\n",
    "    \"\"\"\n",
    "    def dunn_index_univariate(clusters, data):\n",
    "        \"\"\"\n",
    "            Compute the Dunn index for a clustering of univariate time series data\n",
    "            - clusters: list of lists of indexes of the time series in each cluster\n",
    "            - data: the data set (dataframe with index as id of the time series), only one column where each cell is a np.array (time series)\n",
    "        \"\"\"\n",
    "        centroids = []\n",
    "\n",
    "        # Define the centroids of the clusters\n",
    "        for cluster in clusters:\n",
    "            centroid = np.zeros_like(data.iloc[0])\n",
    "            for country in cluster:\n",
    "                centroid += data.loc[country]\n",
    "            centroid /= len(cluster)\n",
    "            centroids.append(centroid)\n",
    "\n",
    "        centroids = np.array(centroids)\n",
    "        \n",
    "        # Compute the distances between clusters\n",
    "        inter_cluster_distances = []\n",
    "        for i in range(len(clusters)):\n",
    "            for j in range(i+1, len(clusters)):\n",
    "                inter_cluster_distances.append(np.linalg.norm(centroids[i] - centroids[j]))\n",
    "\n",
    "        # Compute the diameter of each cluster\n",
    "        # Diameter = max distance between two countries in the cluster\n",
    "        cluster_diameters = []\n",
    "        for cluster in clusters:\n",
    "            diameter = 0\n",
    "            for i in range(len(cluster)):\n",
    "                for j in range(i+1, len(cluster)):\n",
    "                    diameter = max(diameter, np.linalg.norm(data.loc[cluster[i]] - data.loc[cluster[j]]))\n",
    "            cluster_diameters.append(diameter)\n",
    "\n",
    "        dunn_index = min(inter_cluster_distances) / max(cluster_diameters)\n",
    "        return dunn_index\n",
    "\n",
    "    index = 0\n",
    "    criterias = data.columns\n",
    "\n",
    "    for criteria in criterias:\n",
    "        index += dunn_index_univariate(clusters, data[criteria])\n",
    "\n",
    "    return index / len(criterias)\n"
   ]
  },
  {
   "cell_type": "markdown",
   "metadata": {},
   "source": [
    "## 1. P2Kmeans"
   ]
  },
  {
   "cell_type": "code",
   "execution_count": 4,
   "metadata": {},
   "outputs": [],
   "source": [
    "def p2Kmeans(data, k, W, P, Q, N, K, L, PHI_df):\n",
    "    \"\"\" \n",
    "    This function performs the Promethee II method on the data\n",
    "    Then apply the K-means clustering algorithm on the results\n",
    "    \n",
    "    Parameters:\n",
    "    data (DataFrame): The data to be processed\n",
    "    W (list): The weights of the criteria\n",
    "    P (list): The preference function parameters\n",
    "    Q (list): The indifference function parameters\n",
    "    K (int): The number of criteria\n",
    "    L (int): The length of the time series\n",
    "    \"\"\"\n",
    "    results = cf.kMeans(PHI_df, k, max_it=100, distance_function=cf.euclid_distance)\n",
    "\n",
    "    # Get a list of list of ISO3 codes for each cluster\n",
    "    clusters = []\n",
    "    for i in range(k):\n",
    "        clusters.append(results[i].index.tolist())\n",
    "    # print(clusters)\n",
    "\n",
    "    return clusters\n"
   ]
  },
  {
   "cell_type": "markdown",
   "metadata": {},
   "source": [
    "## 2. Gamma-Kmedoid"
   ]
  },
  {
   "cell_type": "code",
   "execution_count": 5,
   "metadata": {},
   "outputs": [],
   "source": [
    "def G_Kmedoid(data, W, P, Q, L, dist_matrix, Weight_vector, k=3, prototype_method=\"random\"):\n",
    "    \"\"\" \n",
    "    Function that receives the raw dataset and creates the clusters using the K-Medoid algorithm using Promethee Gamma as the distance matrix\n",
    "    - data: pd.DataFrame with the raw dataset - iso3 as index and the criteria as columns names\n",
    "    - W: list of weights for each criteria - must sum to 1\n",
    "    - P: list of P thresholds for each criteria - must be > 0\n",
    "    - Q: list of Q thresholds for each criteria - must be >= 0\n",
    "    - Weight_vector: list of weights for each time point - must sum to 1\n",
    "    - k: number of clusters to create\n",
    "    \"\"\"\n",
    "    # Verify that the weights sum to 1\n",
    "    if sum(W) != 1:\n",
    "        raise ValueError(\"The weights must sum to 1\")\n",
    "    \n",
    "    if len(W) != data.shape[1] or len(P) != data.shape[1] or len(Q) != data.shape[1]:\n",
    "        raise ValueError(\"The number of weights, P and Q thresholds must be equal to the number of criteria\")\n",
    "    \n",
    "    # Verify that the P thresholds are > 0\n",
    "    if any([p <= 0 for p in P]):\n",
    "        raise ValueError(\"The P thresholds must be > 0\")\n",
    "    \n",
    "    # Verify that the Q thresholds are >= 0\n",
    "    if any([q < 0 for q in Q]):\n",
    "        raise ValueError(\"The Q thresholds must be >= 0\")\n",
    "    \n",
    "    if sum(Weight_vector) != 1:\n",
    "        raise ValueError(\"The time weight vector must sum to 1\")\n",
    "    \n",
    "    if len(Weight_vector) != data.iloc[0][\"co2prod\"].shape[0]:\n",
    "        raise ValueError(\"The time weight vector must have the same length as the time series\")\n",
    "\n",
    "    # Get the criteria names\n",
    "    alternatives = data.index\n",
    "\n",
    "    # # Computing the distance matrix\n",
    "    # phi_c_all = pf.get_all_Phi_c(data, P, Q, L)\n",
    "    # eta = pf.get_eta_matrix(data, phi_c_all, W, L)\n",
    "    # agg_eta = pf.aggregate_all_series(eta, Weight_vector)\n",
    "    # dist_matrix = pd.DataFrame(agg_eta, index=alternatives, columns=alternatives)\n",
    "\n",
    "    # Run the K-Medoid algorithm\n",
    "    medoids, clusters, iter = cf.K_Medoid_Eta(alternatives, dist_matrix, k, prototype_method=prototype_method, print_results=False)\n",
    "\n",
    "    cluster_list = [val for val in clusters.values()]\n",
    "\n",
    "    # return medoids, clusters\n",
    "    return cluster_list\n"
   ]
  },
  {
   "cell_type": "markdown",
   "metadata": {},
   "source": [
    "## 3. K-means"
   ]
  },
  {
   "cell_type": "code",
   "execution_count": 6,
   "metadata": {},
   "outputs": [],
   "source": [
    "def KMeans_normal(data, k):\n",
    "    from tslearn.clustering import TimeSeriesKMeans\n",
    "\n",
    "    n_clusters = 3\n",
    "\n",
    "\n",
    "    n_samples = data.shape[0]\n",
    "    n_features = data.shape[1]\n",
    "\n",
    "    formatted_data = np.stack([np.stack(data.iloc[:, i].values) for i in range(n_features)], axis=-1)\n",
    "\n",
    "    names = data.index\n",
    "    names_formatted = [name for name in names]\n",
    "\n",
    "    km = TimeSeriesKMeans(n_clusters=n_clusters, metric=\"euclidean\", max_iter=5).fit(formatted_data)\n",
    "   \n",
    "    clusters = [[] for _ in range(n_clusters)]\n",
    "    for i in range(n_samples):\n",
    "        clusters[km.labels_[i]].append(names_formatted[i])\n",
    "\n",
    "    return clusters"
   ]
  },
  {
   "cell_type": "markdown",
   "metadata": {},
   "source": [
    "## 4. Comparison"
   ]
  },
  {
   "cell_type": "code",
   "execution_count": 9,
   "metadata": {},
   "outputs": [
    {
     "name": "stderr",
     "output_type": "stream",
     "text": [
      "P2Kmeans Progress: 100%|██████████| 100/100 [06:58<00:00,  4.19s/it]\n",
      "G_Kmedoid Progress: 100%|██████████| 100/100 [00:14<00:00,  7.04it/s]\n",
      "KMeans Progress: 100%|██████████| 100/100 [00:17<00:00,  5.76it/s]\n",
      "KMeans Normalized Progress: 100%|██████████| 100/100 [00:14<00:00,  6.72it/s]\n"
     ]
    }
   ],
   "source": [
    "from tqdm import tqdm\n",
    "\n",
    "def compare_algorithms(data, k, W, P, Q, N, K, L, Weight_vector, nb_try=10):\n",
    "    \"\"\" \n",
    "        Compare the results of the different clustering algorithms on the data and evaluate them using the Dunn index\n",
    "    \"\"\"\n",
    "\n",
    "    # P2Kmeans\n",
    "    dunn_p2kmeans = []\n",
    "    phi_c_all = pf.get_all_Phi_c(data, P, Q, L) # compute all mono criterion flows series\n",
    "    PHI = pf.PHI_all(phi_c_all, W, N, L, K) # Aggregate to the net flow series\n",
    "    # Transform PHI into a dataframe with ISO3 as index and years as columns\n",
    "    PHI_df = pd.DataFrame(PHI, index=data.index, columns=np.arange(1990, 2023))\n",
    "    \n",
    "    for i in tqdm(range(nb_try), desc=\"P2Kmeans Progress\"):\n",
    "        results = p2Kmeans(data, k, W, P, Q, N, K, L, PHI_df)\n",
    "        dunn_p2kmeans.append(dunn_index_multivariate(results, data))\n",
    "\n",
    "    # G_Kmedoid\n",
    "    dunn_gkm = []\n",
    "    # Get the criteria names\n",
    "    alternatives = data.index\n",
    "\n",
    "    # Computing the distance matrix\n",
    "    phi_c_all = pf.get_all_Phi_c(data, P, Q, L)\n",
    "    eta = pf.get_eta_matrix(data, phi_c_all, W, L)\n",
    "    agg_eta = pf.aggregate_all_series(eta, Weight_vector)\n",
    "    dist_matrix = pd.DataFrame(agg_eta, index=alternatives, columns=alternatives)\n",
    "    for i in tqdm(range(nb_try), desc=\"G_Kmedoid Progress\"):\n",
    "        results = G_Kmedoid(data, W, P, Q, L, dist_matrix, Weight_vector, k=k)\n",
    "        dunn_gkm.append(dunn_index_multivariate(results, data))\n",
    "\n",
    "    # KMeans\n",
    "    dunn_km = []\n",
    "    for i in tqdm(range(nb_try), desc=\"KMeans Progress\"):\n",
    "        results = KMeans_normal(data, k)\n",
    "        dunn_km.append(dunn_index_multivariate(results, data))\n",
    "\n",
    "    # KMeans normalized data\n",
    "    dunn_km_norm = []\n",
    "    for i in tqdm(range(nb_try), desc=\"KMeans Normalized Progress\"):\n",
    "        scaled_data = scale_data(data)\n",
    "        results = KMeans_normal(scaled_data, k)\n",
    "        dunn_km_norm.append(dunn_index_multivariate(results, data))\n",
    "\n",
    "    return dunn_p2kmeans, dunn_gkm, dunn_km, dunn_km_norm\n",
    "\n",
    "\n",
    "k = 6\n",
    "dunn_p2kmeans, dunn_gkm, dunn_km, dunn_km_norm = compare_algorithms(data, k, W, P, Q, N, K, L, Weight_vector, nb_try=100)\n"
   ]
  },
  {
   "cell_type": "code",
   "execution_count": 10,
   "metadata": {},
   "outputs": [
    {
     "name": "stderr",
     "output_type": "stream",
     "text": [
      "C:\\Users\\raphu\\AppData\\Local\\Temp\\ipykernel_30688\\1150673038.py:13: MatplotlibDeprecationWarning: The 'labels' parameter of boxplot() has been renamed 'tick_labels' since Matplotlib 3.9; support for the old name will be dropped in 3.11.\n",
      "  plt.boxplot([dunn_p2kmeans, dunn_gkm, dunn_km, dunn_km_norm], labels=[\"P2Kmeans\", \"G_Kmedoid\", \"KMeans\", \"KMeans Normalized\"])\n"
     ]
    },
    {
     "data": {
      "image/png": "[encoded data removed]",
      "text/plain": [
       "<Figure size 1000x600 with 1 Axes>"
      ]
     },
     "metadata": {},
     "output_type": "display_data"
    }
   ],
   "source": [
    "def analyze_results(dunn_p2kmeans, dunn_gkm, dunn_km, dunn_km_norm):\n",
    "    \"\"\"\n",
    "    Analyze the results of the clustering algorithms\n",
    "    \"\"\"\n",
    "    dunn_p2kmeans = np.array(dunn_p2kmeans)\n",
    "    dunn_gkm = np.array(dunn_gkm)\n",
    "    dunn_km = np.array(dunn_km)\n",
    "    dunn_km_norm = np.array(dunn_km_norm)\n",
    "\n",
    "    # Plot boxplots for each algorithm (on the same plot)\n",
    "    plt.figure(figsize=(10, 6))\n",
    "\n",
    "    plt.boxplot([dunn_p2kmeans, dunn_gkm, dunn_km, dunn_km_norm], labels=[\"P2Kmeans\", \"G_Kmedoid\", \"KMeans\", \"KMeans Normalized\"])\n",
    "    plt.title(\"Dunn Index for the different clustering algorithms\")\n",
    "    plt.show()\n",
    "\n",
    "analyze_results(dunn_p2kmeans, dunn_gkm, dunn_km, dunn_km_norm)\n"
   ]
  }
 ],
 "metadata": {
  "kernelspec": {
   "display_name": "Python 3",
   "language": "python",
   "name": "python3"
  },
  "language_info": {
   "codemirror_mode": {
    "name": "ipython",
    "version": 3
   },
   "file_extension": ".py",
   "mimetype": "text/x-python",
   "name": "python",
   "nbconvert_exporter": "python",
   "pygments_lexer": "ipython3",
   "version": "3.12.9"
  }
 },
 "nbformat": 4,
 "nbformat_minor": 2
}
